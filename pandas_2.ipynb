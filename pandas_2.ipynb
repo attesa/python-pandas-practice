{
 "cells": [
  {
   "cell_type": "code",
   "execution_count": 365,
   "metadata": {
    "collapsed": true
   },
   "outputs": [],
   "source": [
    "import pandas as pd\n",
    "import numpy as np\n",
    "import matplotlib.pyplot as plt\n",
    "from datetime import datetime\n",
    "import re\n",
    "from scipy.stats.stats import pearsonr\n",
    "from sklearn import datasets, linear_model\n",
    "import math"
   ]
  },
  {
   "cell_type": "code",
   "execution_count": 4,
   "metadata": {
    "collapsed": true
   },
   "outputs": [],
   "source": [
    "df = pd.read_csv(\"Accidents0514.csv\",low_memory=False)\n",
    "df_V = pd.read_csv(\"Vehicles0514.csv\",low_memory=False)\n",
    "df_C = pd.read_csv(\"Casualties0514.csv\",low_memory=False)"
   ]
  },
  {
   "cell_type": "code",
   "execution_count": 5,
   "metadata": {
    "collapsed": true
   },
   "outputs": [
    {
     "data": {
      "text/html": [
       "<div>\n",
       "<style>\n",
       "    .dataframe thead tr:only-child th {\n",
       "        text-align: right;\n",
       "    }\n",
       "\n",
       "    .dataframe thead th {\n",
       "        text-align: left;\n",
       "    }\n",
       "\n",
       "    .dataframe tbody tr th {\n",
       "        vertical-align: top;\n",
       "    }\n",
       "</style>\n",
       "<table border=\"1\" class=\"dataframe\">\n",
       "  <thead>\n",
       "    <tr style=\"text-align: right;\">\n",
       "      <th></th>\n",
       "      <th>Accident_Index</th>\n",
       "      <th>Location_Easting_OSGR</th>\n",
       "      <th>Location_Northing_OSGR</th>\n",
       "      <th>Longitude</th>\n",
       "      <th>Latitude</th>\n",
       "      <th>Police_Force</th>\n",
       "      <th>Accident_Severity</th>\n",
       "      <th>Number_of_Vehicles</th>\n",
       "      <th>Number_of_Casualties</th>\n",
       "      <th>Date</th>\n",
       "      <th>...</th>\n",
       "      <th>Pedestrian_Crossing-Human_Control</th>\n",
       "      <th>Pedestrian_Crossing-Physical_Facilities</th>\n",
       "      <th>Light_Conditions</th>\n",
       "      <th>Weather_Conditions</th>\n",
       "      <th>Road_Surface_Conditions</th>\n",
       "      <th>Special_Conditions_at_Site</th>\n",
       "      <th>Carriageway_Hazards</th>\n",
       "      <th>Urban_or_Rural_Area</th>\n",
       "      <th>Did_Police_Officer_Attend_Scene_of_Accident</th>\n",
       "      <th>LSOA_of_Accident_Location</th>\n",
       "    </tr>\n",
       "  </thead>\n",
       "  <tbody>\n",
       "    <tr>\n",
       "      <th>0</th>\n",
       "      <td>200501BS00001</td>\n",
       "      <td>525680.0</td>\n",
       "      <td>178240.0</td>\n",
       "      <td>-0.191170</td>\n",
       "      <td>51.489096</td>\n",
       "      <td>1</td>\n",
       "      <td>2</td>\n",
       "      <td>1</td>\n",
       "      <td>1</td>\n",
       "      <td>04/01/2005</td>\n",
       "      <td>...</td>\n",
       "      <td>0</td>\n",
       "      <td>1</td>\n",
       "      <td>1</td>\n",
       "      <td>2</td>\n",
       "      <td>2</td>\n",
       "      <td>0</td>\n",
       "      <td>0</td>\n",
       "      <td>1</td>\n",
       "      <td>1</td>\n",
       "      <td>E01002849</td>\n",
       "    </tr>\n",
       "    <tr>\n",
       "      <th>1</th>\n",
       "      <td>200501BS00002</td>\n",
       "      <td>524170.0</td>\n",
       "      <td>181650.0</td>\n",
       "      <td>-0.211708</td>\n",
       "      <td>51.520075</td>\n",
       "      <td>1</td>\n",
       "      <td>3</td>\n",
       "      <td>1</td>\n",
       "      <td>1</td>\n",
       "      <td>05/01/2005</td>\n",
       "      <td>...</td>\n",
       "      <td>0</td>\n",
       "      <td>5</td>\n",
       "      <td>4</td>\n",
       "      <td>1</td>\n",
       "      <td>1</td>\n",
       "      <td>0</td>\n",
       "      <td>0</td>\n",
       "      <td>1</td>\n",
       "      <td>1</td>\n",
       "      <td>E01002909</td>\n",
       "    </tr>\n",
       "    <tr>\n",
       "      <th>2</th>\n",
       "      <td>200501BS00003</td>\n",
       "      <td>524520.0</td>\n",
       "      <td>182240.0</td>\n",
       "      <td>-0.206458</td>\n",
       "      <td>51.525301</td>\n",
       "      <td>1</td>\n",
       "      <td>3</td>\n",
       "      <td>2</td>\n",
       "      <td>1</td>\n",
       "      <td>06/01/2005</td>\n",
       "      <td>...</td>\n",
       "      <td>0</td>\n",
       "      <td>0</td>\n",
       "      <td>4</td>\n",
       "      <td>1</td>\n",
       "      <td>1</td>\n",
       "      <td>0</td>\n",
       "      <td>0</td>\n",
       "      <td>1</td>\n",
       "      <td>1</td>\n",
       "      <td>E01002857</td>\n",
       "    </tr>\n",
       "    <tr>\n",
       "      <th>3</th>\n",
       "      <td>200501BS00004</td>\n",
       "      <td>526900.0</td>\n",
       "      <td>177530.0</td>\n",
       "      <td>-0.173862</td>\n",
       "      <td>51.482442</td>\n",
       "      <td>1</td>\n",
       "      <td>3</td>\n",
       "      <td>1</td>\n",
       "      <td>1</td>\n",
       "      <td>07/01/2005</td>\n",
       "      <td>...</td>\n",
       "      <td>0</td>\n",
       "      <td>0</td>\n",
       "      <td>1</td>\n",
       "      <td>1</td>\n",
       "      <td>1</td>\n",
       "      <td>0</td>\n",
       "      <td>0</td>\n",
       "      <td>1</td>\n",
       "      <td>1</td>\n",
       "      <td>E01002840</td>\n",
       "    </tr>\n",
       "    <tr>\n",
       "      <th>4</th>\n",
       "      <td>200501BS00005</td>\n",
       "      <td>528060.0</td>\n",
       "      <td>179040.0</td>\n",
       "      <td>-0.156618</td>\n",
       "      <td>51.495752</td>\n",
       "      <td>1</td>\n",
       "      <td>3</td>\n",
       "      <td>1</td>\n",
       "      <td>1</td>\n",
       "      <td>10/01/2005</td>\n",
       "      <td>...</td>\n",
       "      <td>0</td>\n",
       "      <td>0</td>\n",
       "      <td>7</td>\n",
       "      <td>1</td>\n",
       "      <td>2</td>\n",
       "      <td>0</td>\n",
       "      <td>0</td>\n",
       "      <td>1</td>\n",
       "      <td>1</td>\n",
       "      <td>E01002863</td>\n",
       "    </tr>\n",
       "  </tbody>\n",
       "</table>\n",
       "<p>5 rows × 32 columns</p>\n",
       "</div>"
      ],
      "text/plain": [
       "  Accident_Index  Location_Easting_OSGR  Location_Northing_OSGR  Longitude  \\\n",
       "0  200501BS00001               525680.0                178240.0  -0.191170   \n",
       "1  200501BS00002               524170.0                181650.0  -0.211708   \n",
       "2  200501BS00003               524520.0                182240.0  -0.206458   \n",
       "3  200501BS00004               526900.0                177530.0  -0.173862   \n",
       "4  200501BS00005               528060.0                179040.0  -0.156618   \n",
       "\n",
       "    Latitude  Police_Force  Accident_Severity  Number_of_Vehicles  \\\n",
       "0  51.489096             1                  2                   1   \n",
       "1  51.520075             1                  3                   1   \n",
       "2  51.525301             1                  3                   2   \n",
       "3  51.482442             1                  3                   1   \n",
       "4  51.495752             1                  3                   1   \n",
       "\n",
       "   Number_of_Casualties        Date            ...              \\\n",
       "0                     1  04/01/2005            ...               \n",
       "1                     1  05/01/2005            ...               \n",
       "2                     1  06/01/2005            ...               \n",
       "3                     1  07/01/2005            ...               \n",
       "4                     1  10/01/2005            ...               \n",
       "\n",
       "   Pedestrian_Crossing-Human_Control Pedestrian_Crossing-Physical_Facilities  \\\n",
       "0                                  0                                       1   \n",
       "1                                  0                                       5   \n",
       "2                                  0                                       0   \n",
       "3                                  0                                       0   \n",
       "4                                  0                                       0   \n",
       "\n",
       "   Light_Conditions Weather_Conditions  Road_Surface_Conditions  \\\n",
       "0                 1                  2                        2   \n",
       "1                 4                  1                        1   \n",
       "2                 4                  1                        1   \n",
       "3                 1                  1                        1   \n",
       "4                 7                  1                        2   \n",
       "\n",
       "   Special_Conditions_at_Site  Carriageway_Hazards  Urban_or_Rural_Area  \\\n",
       "0                           0                    0                    1   \n",
       "1                           0                    0                    1   \n",
       "2                           0                    0                    1   \n",
       "3                           0                    0                    1   \n",
       "4                           0                    0                    1   \n",
       "\n",
       "   Did_Police_Officer_Attend_Scene_of_Accident  LSOA_of_Accident_Location  \n",
       "0                                            1                  E01002849  \n",
       "1                                            1                  E01002909  \n",
       "2                                            1                  E01002857  \n",
       "3                                            1                  E01002840  \n",
       "4                                            1                  E01002863  \n",
       "\n",
       "[5 rows x 32 columns]"
      ]
     },
     "execution_count": 5,
     "metadata": {},
     "output_type": "execute_result"
    }
   ],
   "source": [
    "df.head()"
   ]
  },
  {
   "cell_type": "code",
   "execution_count": 8,
   "metadata": {},
   "outputs": [
    {
     "data": {
      "text/plain": [
       "0.64265691086842169"
      ]
     },
     "execution_count": 8,
     "metadata": {},
     "output_type": "execute_result"
    }
   ],
   "source": [
    "#problem 1\n",
    "df['Urban_or_Rural_Area'].value_counts()[1]/df['Urban_or_Rural_Area'].value_counts().sum()"
   ]
  },
  {
   "cell_type": "code",
   "execution_count": 17,
   "metadata": {
    "collapsed": true
   },
   "outputs": [
    {
     "data": {
      "text/plain": [
       "Index(['Accident_Index', 'Location_Easting_OSGR', 'Location_Northing_OSGR',\n",
       "       'Longitude', 'Latitude', 'Police_Force', 'Accident_Severity',\n",
       "       'Number_of_Vehicles', 'Number_of_Casualties', 'Date', 'Day_of_Week',\n",
       "       'Time', 'Local_Authority_(District)', 'Local_Authority_(Highway)',\n",
       "       '1st_Road_Class', '1st_Road_Number', 'Road_Type', 'Speed_limit',\n",
       "       'Junction_Detail', 'Junction_Control', '2nd_Road_Class',\n",
       "       '2nd_Road_Number', 'Pedestrian_Crossing-Human_Control',\n",
       "       'Pedestrian_Crossing-Physical_Facilities', 'Light_Conditions',\n",
       "       'Weather_Conditions', 'Road_Surface_Conditions',\n",
       "       'Special_Conditions_at_Site', 'Carriageway_Hazards',\n",
       "       'Urban_or_Rural_Area', 'Did_Police_Officer_Attend_Scene_of_Accident',\n",
       "       'LSOA_of_Accident_Location'],\n",
       "      dtype='object')"
      ]
     },
     "execution_count": 17,
     "metadata": {},
     "output_type": "execute_result"
    }
   ],
   "source": [
    "df.keys()"
   ]
  },
  {
   "cell_type": "code",
   "execution_count": 52,
   "metadata": {},
   "outputs": [
    {
     "name": "stdout",
     "output_type": "stream",
     "text": [
      "0.0394866732\n"
     ]
    }
   ],
   "source": [
    "#Problem 2\n",
    "#severity \n",
    "#code\tlabel\n",
    "#1\tFatal\n",
    "#2\tSerious\n",
    "#3\tSlight\n",
    "\n",
    "fatal_acci = df['Accident_Severity'] == 1\n",
    "fatal_df = df[fatal_acci]\n",
    "all_count = {}\n",
    "fatal_count = {}\n",
    "for i in range(24):\n",
    "    all_count[i] = 0.0\n",
    "    fatal_count[i] = 0.0\n",
    "for key in df['Time'].value_counts().keys():\n",
    "    index = int(key[0:2])\n",
    "    all_count[index] += (df['Time'].value_counts()[key])\n",
    "for key in fatal_df['Time'].value_counts().keys():\n",
    "    index = int(key[0:2])\n",
    "    fatal_count[index] += (fatal_df['Time'].value_counts()[key])\n",
    "prob = []\n",
    "for i in range(24):\n",
    "    prob.append(fatal_count[i]/all_count[i])\n",
    "print(\"{0:.10f}\".format(max(prob)))"
   ]
  },
  {
   "cell_type": "code",
   "execution_count": 51,
   "metadata": {},
   "outputs": [
    {
     "name": "stdout",
     "output_type": "stream",
     "text": [
      "0.0394866732\n",
      "4\n"
     ]
    }
   ],
   "source": [
    "prob = []\n",
    "for i in range(24):\n",
    "    prob.append(fatal_count[i]/all_count[i])\n",
    "print(\"{0:.10f}\".format(max(prob)))\n",
    "print(prob.index(max(prob)))"
   ]
  },
  {
   "cell_type": "code",
   "execution_count": 61,
   "metadata": {
    "collapsed": true
   },
   "outputs": [],
   "source": [
    "#problem 3\n",
    "#units of increased number of accidents per year.\n",
    "#first get number per year\n",
    "min(df['Date'].value_counts().keys())\n",
    "max(df['Date'].value_counts().keys())\n",
    "number_year = {}\n",
    "for i in range(2005,2015):\n",
    "    number_year[i] = 0.0\n",
    "for key in df['Date'].value_counts().keys():\n",
    "    index = int(key[-4:])\n",
    "    number_year[index] += df['Date'].value_counts()[key]\n",
    "\n",
    "increase_num = []\n",
    "year = []\n",
    "for i in range(2005,2014):\n",
    "    increase_num.append(number_year[i+1] - number_year[i])\n",
    "    year.append(i+1)\n",
    "\n",
    "a = np.array(year)[np.newaxis].T\n",
    "b = np.array(increase_num)\n",
    "regr = linear_model.LinearRegression()\n",
    "\n",
    "#regr.fit(year, increase_num)\n",
    "regr.fit(a, b)\n",
    "#print(a,b)\n",
    "c = float(regr.coef_)\n",
    "print(\"{0:.10f}\".format(c))\n",
    "regr.coef_"
   ]
  },
  {
   "cell_type": "code",
   "execution_count": 103,
   "metadata": {},
   "outputs": [
    {
     "name": "stdout",
     "output_type": "stream",
     "text": [
      "1411.46666667\n",
      "1411.4666666667\n"
     ]
    },
    {
     "data": {
      "text/plain": [
       "array([ 1411.46666667])"
      ]
     },
     "execution_count": 103,
     "metadata": {},
     "output_type": "execute_result"
    }
   ],
   "source": [
    "increase_num = []\n",
    "year = []\n",
    "for i in range(2005,2014):\n",
    "    increase_num.append(number_year[i+1] - number_year[i])\n",
    "    year.append(i+1)\n",
    "\n",
    "a = np.array(year)[np.newaxis].T\n",
    "b = np.array(increase_num)\n",
    "regr = linear_model.LinearRegression()\n",
    "\n",
    "#regr.fit(year, increase_num)\n",
    "regr.fit(a, b)\n",
    "#print(a,b)\n",
    "#slope,intercept = np.polyfit(year, increase_num, 1)\n",
    "#print(slope)\n",
    "c = float(regr.coef_)\n",
    "print(\"{0:.10f}\".format(c))\n",
    "#regr.coef_"
   ]
  },
  {
   "cell_type": "code",
   "execution_count": 117,
   "metadata": {},
   "outputs": [
    {
     "name": "stdout",
     "output_type": "stream",
     "text": [
      "[30.0, 60.0, 40.0, 70.0, 50.0, 20.0, 10.0, 15.0]\n",
      "[1.2693620233045813, 1.5159866606908181, 1.4361206947831777, 1.5690861445031405, 1.5054084720121028, 1.1758898854854176, 1.1764705882352942, 1.125]\n",
      "0.9659390555\n"
     ]
    }
   ],
   "source": [
    "#Problem 4\n",
    "speed_limit = []\n",
    "cas_acc_ratio = []\n",
    "\n",
    "\n",
    "\n",
    "for key in df['Speed_limit'].value_counts().keys():\n",
    "    speed_limit.append(float(key))\n",
    "    speed_key = df['Speed_limit'] == key\n",
    "    speed_df = df[speed_key]\n",
    "    #print(speed_df['Number_of_Casualties'].sum())\n",
    "    #print(df['Speed_limit'].value_counts()[key])\n",
    "    ratio = speed_df['Number_of_Casualties'].sum()/df['Speed_limit'].value_counts()[key]\n",
    "    cas_acc_ratio.append(ratio)\n",
    "print(speed_limit)\n",
    "print(cas_acc_ratio)\n",
    "pearsonr(speed_limit,cas_acc_ratio)\n",
    "print(\"{0:.10f}\".format(pearsonr(speed_limit,cas_acc_ratio)[0]))"
   ]
  },
  {
   "cell_type": "code",
   "execution_count": 172,
   "metadata": {
    "collapsed": true
   },
   "outputs": [],
   "source": [
    "#Problem 5\n",
    "\"\"\"\n",
    "S\n",
    "code\tlabel\n",
    "0\tNone\n",
    "1\tSkidded\n",
    "2\tSkidded and overturned\n",
    "3\tJackknifed\n",
    "4\tJackknifed and overturned\n",
    "5\tOverturned\n",
    "-1\tData missing or out of range\n",
    ">0/>=0\n",
    "\n",
    "Weather\n",
    "code\tlabel\n",
    "!1\tFine no high winds\n",
    "@2\tRaining no high winds\n",
    "@3\tSnowing no high winds\n",
    "4\tFine + high winds\n",
    "@5\tRaining + high winds\n",
    "@6\tSnowing + high winds\n",
    "7\tFog or mist\n",
    "8\tOther\n",
    "9\tUnknown\n",
    "-1\tData missing or out of range\n",
    "\n",
    "\n",
    "\"\"\"\n",
    "#df_V = pd.read_csv(\"K:/DI/10-26-2017/Stats19_Data_2005-2014/Vehicles0514.csv\",low_memory=False)\n",
    "#df_V['Skidding_and_Overturning'].value_counts()\n",
    "#print(df_V.shape)\n",
    "#print(df.shape)\n",
    "#df['Weather_Conditions'].value_counts()\n",
    "#df_V[''].value_counts()\n",
    "#df[''].value_counts()\n",
    "\n",
    "#two table connected by accident index\n",
    "#ration for fine weather\n",
    "condition_weather_fine = df['Weather_Conditions'] == 1\n",
    "weather_fine_df = df[condition_weather_fine]\n",
    "\n",
    "f_acci = weather_fine_df['Accident_Index']\n",
    "F_S_count = 0\n",
    "F_A_count = 0\n",
    "NF_S_count = 0\n",
    "NF_A_count = 0\n",
    "i = 0 \n",
    "\n",
    "\n",
    "for acc in f_acci:\n",
    "    while df_V[i:i+1]['Accident_Index'][i] != acc:\n",
    "        i += 1\n",
    "    while df_V[i:i+1]['Accident_Index'][i] == acc:\n",
    "        if df_V[i:i+1]['Skidding_and_Overturning'][i] >= 0:\n",
    "            F_A_count += 1\n",
    "            if df_V[i:i+1]['Skidding_and_Overturning'][i] > 0:\n",
    "                F_S_count += 1\n",
    "        i += 1\n",
    "    if i > len(df_V):\n",
    "        break\n",
    "\n",
    "condition_weather_bad = df['Weather_Conditions'].isin([2,3,5,6]) \n",
    "weather_bad_df = df[condition_weather_bad]\n",
    "i = 0\n",
    "b_acci = weather_bad_df['Accident_Index']\n",
    "for acc in b_acci:\n",
    "    while df_V[i:i+1]['Accident_Index'][i] != acc:\n",
    "        i += 1\n",
    "    while df_V[i:i+1]['Accident_Index'][i] == acc:\n",
    "        if df_V[i:i+1]['Skidding_and_Overturning'][i] >= 0:\n",
    "            NF_A_count += 1\n",
    "            if df_V[i:i+1]['Skidding_and_Overturning'][i] > 0:\n",
    "                NF_S_count += 1\n",
    "        i += 1\n",
    "    if i > len(df_V):\n",
    "        break\n",
    "ratio_B = NF_S_count/NF_A_count\n",
    "print(\"{0:.10f}\".format(ratio_B/ratio_F))      \n",
    "\n",
    "\n",
    "ratio_F = F_S_count/F_A_count\n",
    "    "
   ]
  },
  {
   "cell_type": "code",
   "execution_count": 232,
   "metadata": {
    "collapsed": true
   },
   "outputs": [],
   "source": [
    "for c in a[0:100]:\n",
    "    d = (df_V.loc[df_V['Accident_Index'] ==c, 'Skidding_and_Overturning'])"
   ]
  },
  {
   "cell_type": "code",
   "execution_count": null,
   "metadata": {
    "collapsed": true
   },
   "outputs": [],
   "source": [
    "e = df_V['Accident_Index'] == c\n",
    "df_V[e]['Skidding_and_Overturning']\n"
   ]
  },
  {
   "cell_type": "code",
   "execution_count": 161,
   "metadata": {
    "collapsed": true
   },
   "outputs": [],
   "source": [
    "#Start from S condition:\n",
    "#generate fine_S_count, F_A_count, NF_S_count, NF_A_count\n",
    "#condition_s = df_V['Skidding_and_Overturning'] > 0\n",
    "#df_V_s = df_V[condition_s]\n",
    "#s_acci = df_V_s['Accident_Index']"
   ]
  },
  {
   "cell_type": "code",
   "execution_count": 238,
   "metadata": {
    "collapsed": true
   },
   "outputs": [
    {
     "ename": "IndexError",
     "evalue": "index out of bounds",
     "output_type": "error",
     "traceback": [
      "\u001b[1;31m---------------------------------------------------------------------------\u001b[0m",
      "\u001b[1;31mKeyError\u001b[0m                                  Traceback (most recent call last)",
      "\u001b[1;32mG:\\Anaconda3\\lib\\site-packages\\pandas\\core\\indexes\\base.py\u001b[0m in \u001b[0;36mget_value\u001b[1;34m(self, series, key)\u001b[0m\n\u001b[0;32m   2427\u001b[0m             return self._engine.get_value(s, k,\n\u001b[1;32m-> 2428\u001b[1;33m                                           tz=getattr(series.dtype, 'tz', None))\n\u001b[0m\u001b[0;32m   2429\u001b[0m         \u001b[1;32mexcept\u001b[0m \u001b[0mKeyError\u001b[0m \u001b[1;32mas\u001b[0m \u001b[0me1\u001b[0m\u001b[1;33m:\u001b[0m\u001b[1;33m\u001b[0m\u001b[0m\n",
      "\u001b[1;32mpandas\\_libs\\index.pyx\u001b[0m in \u001b[0;36mpandas._libs.index.IndexEngine.get_value (pandas\\_libs\\index.c:4363)\u001b[1;34m()\u001b[0m\n",
      "\u001b[1;32mpandas\\_libs\\index.pyx\u001b[0m in \u001b[0;36mpandas._libs.index.IndexEngine.get_value (pandas\\_libs\\index.c:4046)\u001b[1;34m()\u001b[0m\n",
      "\u001b[1;32mpandas\\_libs\\index.pyx\u001b[0m in \u001b[0;36mpandas._libs.index.IndexEngine.get_loc (pandas\\_libs\\index.c:5085)\u001b[1;34m()\u001b[0m\n",
      "\u001b[1;32mpandas\\_libs\\hashtable_class_helper.pxi\u001b[0m in \u001b[0;36mpandas._libs.hashtable.Int64HashTable.get_item (pandas\\_libs\\hashtable.c:13913)\u001b[1;34m()\u001b[0m\n",
      "\u001b[1;32mpandas\\_libs\\hashtable_class_helper.pxi\u001b[0m in \u001b[0;36mpandas._libs.hashtable.Int64HashTable.get_item (pandas\\_libs\\hashtable.c:13857)\u001b[1;34m()\u001b[0m\n",
      "\u001b[1;31mKeyError\u001b[0m: 3004425",
      "\nDuring handling of the above exception, another exception occurred:\n",
      "\u001b[1;31mIndexError\u001b[0m                                Traceback (most recent call last)",
      "\u001b[1;32m<ipython-input-238-73772c382f14>\u001b[0m in \u001b[0;36m<module>\u001b[1;34m()\u001b[0m\n\u001b[0;32m     11\u001b[0m     \u001b[1;32mwhile\u001b[0m \u001b[0mdf_V\u001b[0m\u001b[1;33m[\u001b[0m\u001b[0mi\u001b[0m\u001b[1;33m:\u001b[0m\u001b[0mi\u001b[0m\u001b[1;33m+\u001b[0m\u001b[1;36m1\u001b[0m\u001b[1;33m]\u001b[0m\u001b[1;33m[\u001b[0m\u001b[1;34m'Accident_Index'\u001b[0m\u001b[1;33m]\u001b[0m\u001b[1;33m[\u001b[0m\u001b[0mi\u001b[0m\u001b[1;33m]\u001b[0m \u001b[1;33m!=\u001b[0m \u001b[0macc\u001b[0m\u001b[1;33m:\u001b[0m\u001b[1;33m\u001b[0m\u001b[0m\n\u001b[0;32m     12\u001b[0m         \u001b[0mi\u001b[0m \u001b[1;33m+=\u001b[0m \u001b[1;36m1\u001b[0m\u001b[1;33m\u001b[0m\u001b[0m\n\u001b[1;32m---> 13\u001b[1;33m     \u001b[1;32mwhile\u001b[0m \u001b[0mdf_V\u001b[0m\u001b[1;33m[\u001b[0m\u001b[0mi\u001b[0m\u001b[1;33m:\u001b[0m\u001b[0mi\u001b[0m\u001b[1;33m+\u001b[0m\u001b[1;36m1\u001b[0m\u001b[1;33m]\u001b[0m\u001b[1;33m[\u001b[0m\u001b[1;34m'Accident_Index'\u001b[0m\u001b[1;33m]\u001b[0m\u001b[1;33m[\u001b[0m\u001b[0mi\u001b[0m\u001b[1;33m]\u001b[0m \u001b[1;33m==\u001b[0m \u001b[0macc\u001b[0m\u001b[1;33m:\u001b[0m\u001b[1;33m\u001b[0m\u001b[0m\n\u001b[0m\u001b[0;32m     14\u001b[0m         \u001b[1;32mif\u001b[0m \u001b[0mdf_V\u001b[0m\u001b[1;33m[\u001b[0m\u001b[0mi\u001b[0m\u001b[1;33m:\u001b[0m\u001b[0mi\u001b[0m\u001b[1;33m+\u001b[0m\u001b[1;36m1\u001b[0m\u001b[1;33m]\u001b[0m\u001b[1;33m[\u001b[0m\u001b[1;34m'Skidding_and_Overturning'\u001b[0m\u001b[1;33m]\u001b[0m\u001b[1;33m[\u001b[0m\u001b[0mi\u001b[0m\u001b[1;33m]\u001b[0m \u001b[1;33m>=\u001b[0m \u001b[1;36m0\u001b[0m\u001b[1;33m:\u001b[0m\u001b[1;33m\u001b[0m\u001b[0m\n\u001b[0;32m     15\u001b[0m             \u001b[0mF_A_count\u001b[0m \u001b[1;33m+=\u001b[0m \u001b[1;36m1\u001b[0m\u001b[1;33m\u001b[0m\u001b[0m\n",
      "\u001b[1;32mG:\\Anaconda3\\lib\\site-packages\\pandas\\core\\series.py\u001b[0m in \u001b[0;36m__getitem__\u001b[1;34m(self, key)\u001b[0m\n\u001b[0;32m    599\u001b[0m         \u001b[0mkey\u001b[0m \u001b[1;33m=\u001b[0m \u001b[0mcom\u001b[0m\u001b[1;33m.\u001b[0m\u001b[0m_apply_if_callable\u001b[0m\u001b[1;33m(\u001b[0m\u001b[0mkey\u001b[0m\u001b[1;33m,\u001b[0m \u001b[0mself\u001b[0m\u001b[1;33m)\u001b[0m\u001b[1;33m\u001b[0m\u001b[0m\n\u001b[0;32m    600\u001b[0m         \u001b[1;32mtry\u001b[0m\u001b[1;33m:\u001b[0m\u001b[1;33m\u001b[0m\u001b[0m\n\u001b[1;32m--> 601\u001b[1;33m             \u001b[0mresult\u001b[0m \u001b[1;33m=\u001b[0m \u001b[0mself\u001b[0m\u001b[1;33m.\u001b[0m\u001b[0mindex\u001b[0m\u001b[1;33m.\u001b[0m\u001b[0mget_value\u001b[0m\u001b[1;33m(\u001b[0m\u001b[0mself\u001b[0m\u001b[1;33m,\u001b[0m \u001b[0mkey\u001b[0m\u001b[1;33m)\u001b[0m\u001b[1;33m\u001b[0m\u001b[0m\n\u001b[0m\u001b[0;32m    602\u001b[0m \u001b[1;33m\u001b[0m\u001b[0m\n\u001b[0;32m    603\u001b[0m             \u001b[1;32mif\u001b[0m \u001b[1;32mnot\u001b[0m \u001b[0mis_scalar\u001b[0m\u001b[1;33m(\u001b[0m\u001b[0mresult\u001b[0m\u001b[1;33m)\u001b[0m\u001b[1;33m:\u001b[0m\u001b[1;33m\u001b[0m\u001b[0m\n",
      "\u001b[1;32mG:\\Anaconda3\\lib\\site-packages\\pandas\\core\\indexes\\base.py\u001b[0m in \u001b[0;36mget_value\u001b[1;34m(self, series, key)\u001b[0m\n\u001b[0;32m   2432\u001b[0m \u001b[1;33m\u001b[0m\u001b[0m\n\u001b[0;32m   2433\u001b[0m             \u001b[1;32mtry\u001b[0m\u001b[1;33m:\u001b[0m\u001b[1;33m\u001b[0m\u001b[0m\n\u001b[1;32m-> 2434\u001b[1;33m                 \u001b[1;32mreturn\u001b[0m \u001b[0mlibts\u001b[0m\u001b[1;33m.\u001b[0m\u001b[0mget_value_box\u001b[0m\u001b[1;33m(\u001b[0m\u001b[0ms\u001b[0m\u001b[1;33m,\u001b[0m \u001b[0mkey\u001b[0m\u001b[1;33m)\u001b[0m\u001b[1;33m\u001b[0m\u001b[0m\n\u001b[0m\u001b[0;32m   2435\u001b[0m             \u001b[1;32mexcept\u001b[0m \u001b[0mIndexError\u001b[0m\u001b[1;33m:\u001b[0m\u001b[1;33m\u001b[0m\u001b[0m\n\u001b[0;32m   2436\u001b[0m                 \u001b[1;32mraise\u001b[0m\u001b[1;33m\u001b[0m\u001b[0m\n",
      "\u001b[1;32mpandas\\_libs\\tslib.pyx\u001b[0m in \u001b[0;36mpandas._libs.tslib.get_value_box (pandas\\_libs\\tslib.c:18843)\u001b[1;34m()\u001b[0m\n",
      "\u001b[1;32mpandas\\_libs\\tslib.pyx\u001b[0m in \u001b[0;36mpandas._libs.tslib.get_value_box (pandas\\_libs\\tslib.c:18560)\u001b[1;34m()\u001b[0m\n",
      "\u001b[1;31mIndexError\u001b[0m: index out of bounds"
     ]
    }
   ],
   "source": [
    "#have to do both iteration at the same time\n",
    "F_S_count = 0\n",
    "F_A_count = 0\n",
    "NF_S_count = 0\n",
    "NF_A_count = 0\n",
    "i = 0 \n",
    "\n",
    "\n",
    "for acc in f_acci:\n",
    "    while df_V[i:i+1]['Accident_Index'][i] != acc:\n",
    "        i += 1\n",
    "    while df_V[i:i+1]['Accident_Index'][i] == acc:\n",
    "        if df_V[i:i+1]['Skidding_and_Overturning'][i] >= 0:\n",
    "            F_A_count += 1\n",
    "            if df_V[i:i+1]['Skidding_and_Overturning'][i] > 0:\n",
    "                F_S_count += 1\n",
    "        i += 1\n",
    "    if i > len(df_V):\n",
    "        break\n",
    "condition_weather_bad = df['Weather_Conditions'].isin([2,3,5,6]) \n",
    "\n",
    "#or df['Weather_Conditions'] == 3 \\\n",
    "#                         or df['Weather_Conditions'] == 5 or df['Weather_Conditions'] == 6)\n",
    "#b = condition_weather_bad  condition_weather_bad1\n",
    "weather_bad_df = df[condition_weather_bad]\n",
    "i = 0\n",
    "b_acci = weather_bad_df['Accident_Index']\n",
    "for acc in b_acci:\n",
    "    while df_V[i:i+1]['Accident_Index'][i] != acc:\n",
    "        i += 1\n",
    "    while df_V[i:i+1]['Accident_Index'][i] == acc:\n",
    "        if df_V[i:i+1]['Skidding_and_Overturning'][i] >= 0:\n",
    "            NF_A_count += 1\n",
    "            if df_V[i:i+1]['Skidding_and_Overturning'][i] > 0:\n",
    "                NF_S_count += 1\n",
    "        i += 1\n",
    "    if i > len(df_V):\n",
    "        break\n",
    "ratio_B = NF_S_count/NF_A_count\n",
    "print(\"{0:.10f}\".format(ratio_B/ratio_F))      \n"
   ]
  },
  {
   "cell_type": "code",
   "execution_count": 242,
   "metadata": {},
   "outputs": [
    {
     "name": "stdout",
     "output_type": "stream",
     "text": [
      "0.11713150026830513\n"
     ]
    }
   ],
   "source": [
    "print (F_S_count/F_A_count)\n",
    "ratio_F = F_S_count/F_A_count"
   ]
  },
  {
   "cell_type": "code",
   "execution_count": 257,
   "metadata": {
    "collapsed": true
   },
   "outputs": [],
   "source": [
    "condition_weather_bad = df['Weather_Conditions'].isin([2,3,5,6]) \n",
    "\n",
    "#or df['Weather_Conditions'] == 3 \\\n",
    "#                         or df['Weather_Conditions'] == 5 or df['Weather_Conditions'] == 6)\n",
    "#b = condition_weather_bad  condition_weather_bad1\n",
    "weather_bad_df = df[condition_weather_bad]\n",
    "i = 0\n",
    "b_acci = weather_bad_df['Accident_Index']\n",
    "for acc in b_acci:\n",
    "    while df_V[i:i+1]['Accident_Index'][i] != acc:\n",
    "        i += 1\n",
    "    while df_V[i:i+1]['Accident_Index'][i] == acc:\n",
    "        if df_V[i:i+1]['Skidding_and_Overturning'][i] >= 0:\n",
    "            NF_A_count += 1\n",
    "            if df_V[i:i+1]['Skidding_and_Overturning'][i] > 0:\n",
    "                NF_S_count += 1\n",
    "        i += 1\n",
    "    if i > len(df_V):\n",
    "        break"
   ]
  },
  {
   "cell_type": "code",
   "execution_count": 258,
   "metadata": {
    "collapsed": true
   },
   "outputs": [],
   "source": [
    "ratio_B = NF_S_count/NF_A_count"
   ]
  },
  {
   "cell_type": "code",
   "execution_count": 261,
   "metadata": {},
   "outputs": [
    {
     "name": "stdout",
     "output_type": "stream",
     "text": [
      "1.7809261658\n"
     ]
    }
   ],
   "source": [
    "ratio_B/ratio_F\n",
    "print(\"{0:.10f}\".format(ratio_B/ratio_F))"
   ]
  },
  {
   "cell_type": "code",
   "execution_count": 317,
   "metadata": {},
   "outputs": [
    {
     "name": "stdout",
     "output_type": "stream",
     "text": [
      "2.8283112562\n"
     ]
    }
   ],
   "source": [
    "#Problem 6\n",
    "#using file Casualties0514.csv\n",
    "#df_C = pd.read_csv(\"K:/DI/10-26-2017/Stats19_Data_2005-2014/Casualties0514.csv\",low_memory=False)\n",
    "\"\"\"\n",
    "Casualty_Severity\n",
    "code\tlabel\n",
    "1\tFatal\n",
    "2\tSerious\n",
    "3\tSlight\n",
    "\n",
    "Casualty Class\n",
    "code\tlabel\n",
    "1\tDriver or rider\n",
    "2\tPassenger\n",
    "3\tPedestrian\n",
    "\n",
    "sex\n",
    "code\tlabel\n",
    "1\tMale\n",
    "2\tFemale\n",
    "3\tNot known\n",
    "-1\tData missing or out of range\n",
    "\n",
    "\n",
    "\"\"\"\n",
    "#df_V['Vehicle_Manoeuvre'].value_counts()\n",
    "# df_C['Sex_of_Casualty'].value_counts()\n",
    "# df_C['Casualty_Class'].value_counts()\n",
    "# df_C['Casualty_Class'].value_counts()\n",
    "# len(df_C)\n",
    "\n",
    "#parked list\n",
    "condition_parked = df_V['Vehicle_Manoeuvre'] == 2\n",
    "df_V_parked = df_V[condition_parked]\n",
    "df_V_parked['Accident_Index'].value_counts()\n",
    "parked_list = list(df_V_parked['Accident_Index'])\n",
    "\n",
    "df_C['Sex_of_Casualty'].value_counts()\n",
    "condition_male = df_C['Sex_of_Casualty'] == 1 #and df_C['Casualty_Class'] == 1\n",
    "df_C_m = df_C[condition_male]\n",
    "condition_driver = df_C_m['Casualty_Class'] == 1\n",
    "df_C_m_d = df_C_m[condition_driver]\n",
    "condition_notpark = ~df_C_m_d['Accident_Index'].isin(parked_list)\n",
    "df_C_m_d_np = df_C_m_d[condition_notpark]\n",
    "ratio_m = df_C_m_d_np['Casualty_Severity'].value_counts()[1]/df_C_m_d_np['Casualty_Severity'].value_counts().sum()\n",
    "\n",
    "condition_female = df_C['Sex_of_Casualty'] == 2 #and df_C['Casualty_Class'] == 1\n",
    "df_C_f = df_C[condition_female]\n",
    "condition_driver = df_C_f['Casualty_Class'] == 1\n",
    "df_C_f_d = df_C_f[condition_driver]\n",
    "condition_notpark = ~df_C_f_d['Accident_Index'].isin(parked_list)\n",
    "df_C_f_d_np = df_C_f_d[condition_notpark]\n",
    "ratio_f = df_C_f_d_np['Casualty_Severity'].value_counts()[1]/df_C_f_d_np['Casualty_Severity'].value_counts().sum()\n",
    "print(\"{0:.10f}\".format(ratio_m/ratio_f))"
   ]
  },
  {
   "cell_type": "code",
   "execution_count": 350,
   "metadata": {},
   "outputs": [
    {
     "name": "stdout",
     "output_type": "stream",
     "text": [
      "36188.5753566261\n"
     ]
    }
   ],
   "source": [
    "#problem 7\n",
    "#using Longitude\tLatitude\tPolice_Force\n",
    "\n",
    "#according to https://rechneronline.de/earth-radius/, using latitude 52.3555 of england on average from wiki, radius\n",
    "#of earth is 6364.771 km at sea level\n",
    "\n",
    "df['Police_Force'].value_counts()\n",
    "long_list = []\n",
    "lati_list = []\n",
    "area = []\n",
    "\n",
    "\n",
    "for i in range(98):\n",
    "    condition = df['Police_Force'] == i+1\n",
    "    df_7 = df[condition]\n",
    "    long_list.append(np.std(df_7['Longitude']))\n",
    "    lati_list.append(np.std(df_7['Latitude']))\n",
    "for i in range(98):\n",
    "    if str(long_list[i]) != 'nan':\n",
    "        area.append(np.pi**3*long_list[i]*lati_list[i]*6364.771**2/180**2)\n",
    "    else:\n",
    "        area.append(0)\n",
    "print (\"{0:.10f}\".format(max(area)))\n",
    "#northern district"
   ]
  },
  {
   "cell_type": "code",
   "execution_count": 374,
   "metadata": {},
   "outputs": [
    {
     "name": "stdout",
     "output_type": "stream",
     "text": [
      "0.0778510006\n"
     ]
    }
   ],
   "source": [
    "#Problem 8\n",
    "#actually accidents involve usually multiple people, here using only driver's age to fit\n",
    "age = []\n",
    "acci_num = []\n",
    "\n",
    "for key in df_V['Age_of_Driver'].value_counts().keys():\n",
    "    if key >16:\n",
    "        age.append(key)\n",
    "        acci_num.append(df_V['Age_of_Driver'].value_counts()[key])\n",
    "log_num = np.log(acci_num)\n",
    "slope,intercept = np.polyfit(age, log_num, 1)\n",
    "print (\"{0:.10f}\".format(-slope))"
   ]
  },
  {
   "cell_type": "code",
   "execution_count": 356,
   "metadata": {
    "collapsed": true
   },
   "outputs": [],
   "source": [
    "log_num = np.log(acci_num)"
   ]
  },
  {
   "cell_type": "code",
   "execution_count": 358,
   "metadata": {
    "collapsed": true
   },
   "outputs": [],
   "source": [
    "slope,intercept = np.polyfit(age, log_num, 1)"
   ]
  },
  {
   "cell_type": "code",
   "execution_count": 359,
   "metadata": {},
   "outputs": [
    {
     "data": {
      "text/plain": [
       "-0.077851000616006139"
      ]
     },
     "execution_count": 359,
     "metadata": {},
     "output_type": "execute_result"
    }
   ],
   "source": [
    "slope"
   ]
  },
  {
   "cell_type": "code",
   "execution_count": 372,
   "metadata": {
    "collapsed": true
   },
   "outputs": [],
   "source": [
    "pred = []\n",
    "diff = []\n",
    "for i in range(len(age)):\n",
    "    pred.append(np.exp(intercept+slope*age[i]))\n",
    "    diff.append(acci_num[i] - pred[-1])"
   ]
  },
  {
   "cell_type": "code",
   "execution_count": 379,
   "metadata": {},
   "outputs": [
    {
     "data": {
      "image/png": "[encoded data removed]",
      "text/plain": [
       "<matplotlib.figure.Figure at 0x6a826cc0>"
      ]
     },
     "metadata": {},
     "output_type": "display_data"
    }
   ],
   "source": [
    "a = plt.plot(age,acci_num, 'bs', color='r')\n",
    "b = plt.plot(age,pred, 'g^', color = 'b')\n",
    "plt.show()"
   ]
  }
 ],
 "metadata": {
  "kernelspec": {
   "display_name": "Python 3",
   "language": "python",
   "name": "python3"
  },
  "language_info": {
   "codemirror_mode": {
    "name": "ipython",
    "version": 3
   },
   "file_extension": ".py",
   "mimetype": "text/x-python",
   "name": "python",
   "nbconvert_exporter": "python",
   "pygments_lexer": "ipython3",
   "version": "3.6.1"
  }
 },
 "nbformat": 4,
 "nbformat_minor": 2
}
