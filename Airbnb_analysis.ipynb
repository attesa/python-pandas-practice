{
 "cells": [
  {
   "cell_type": "code",
   "execution_count": 311,
   "metadata": {},
   "outputs": [],
   "source": [
    "#D:\\DI\\zhou\n",
    "import pandas as pd\n",
    "import numpy as np\n",
    "from datetime import datetime\n",
    "import sklearn\n",
    "import statsmodels.api as sm\n",
    "from itertools import combinations"
   ]
  },
  {
   "cell_type": "code",
   "execution_count": 3,
   "metadata": {},
   "outputs": [],
   "source": [
    "\n",
    "df = pd.read_excel(\"D:\\DI\\zhou\\contact.xlsx\")\n",
    "#data cleaning and preprocessing:\n",
    "#check data first\n",
    "#create number of listing (booked), see if relative to dim_total_reviews\n",
    "#calculate time ahead of checking when booking\n",
    "#time of staying\n",
    "#create booking success, based on if ts_accepted_at_first is not null\n",
    "#fill m_first_message_length_in_characters nan to 0 and m_guest_first to average value\n",
    "#filter book_it only\n",
    "#filter m_guests_first <= dim_person_capacity\n"
   ]
  },
  {
   "cell_type": "code",
   "execution_count": 111,
   "metadata": {
    "collapsed": true
   },
   "outputs": [
    {
     "name": "stdout",
     "output_type": "stream",
     "text": [
      "ts_reply_at_first\n",
      "1392\n",
      "ts_accepted_at_first\n",
      "6398\n",
      "ts_booking_at\n",
      "6452\n",
      "m_guests_first\n",
      "37\n",
      "m_first_message_length_in_characters\n",
      "2226\n",
      "dim_guest_language\n",
      "23143\n"
     ]
    }
   ],
   "source": [
    "#firstly check data integrity \n",
    "#sum(df[\"ds_checkin_first\"].isnull())\n",
    "for i in range(len(df.keys())):\n",
    "    if sum(df[df.keys()[i]].isnull()) != 0:\n",
    "        print (df.keys()[i])\n",
    "        print (sum(df[df.keys()[i]].isnull()))\n",
    "\n",
    "# results:\n",
    "# ts_reply_at_first\n",
    "# 1392\n",
    "# ts_accepted_at_first\n",
    "# 6398\n",
    "# ts_booking_at\n",
    "# 6452\n",
    "# m_guests_first\n",
    "# 37\n",
    "# m_first_message_length_in_characters\n",
    "# 2226\n",
    "# dim_guest_language\n",
    "# 23143\n"
   ]
  },
  {
   "cell_type": "code",
   "execution_count": 194,
   "metadata": {
    "collapsed": true
   },
   "outputs": [
    {
     "data": {
      "text/html": [
       "<div>\n",
       "<style>\n",
       "    .dataframe thead tr:only-child th {\n",
       "        text-align: right;\n",
       "    }\n",
       "\n",
       "    .dataframe thead th {\n",
       "        text-align: left;\n",
       "    }\n",
       "\n",
       "    .dataframe tbody tr th {\n",
       "        vertical-align: top;\n",
       "    }\n",
       "</style>\n",
       "<table border=\"1\" class=\"dataframe\">\n",
       "  <thead>\n",
       "    <tr style=\"text-align: right;\">\n",
       "      <th></th>\n",
       "      <th>id_guest_anon</th>\n",
       "      <th>id_host_anon</th>\n",
       "      <th>id_listing_anon</th>\n",
       "      <th>ts_interaction_first</th>\n",
       "      <th>ts_reply_at_first</th>\n",
       "      <th>ts_accepted_at_first</th>\n",
       "      <th>ts_booking_at</th>\n",
       "      <th>ds_checkin_first</th>\n",
       "      <th>ds_checkout_first</th>\n",
       "      <th>m_guests_first</th>\n",
       "      <th>m_interactions</th>\n",
       "      <th>m_first_message_length_in_characters</th>\n",
       "      <th>dim_contact_channel_first</th>\n",
       "      <th>dim_room_type</th>\n",
       "      <th>dim_total_reviews</th>\n",
       "      <th>dim_person_capacity</th>\n",
       "      <th>dim_guest_language</th>\n",
       "      <th>dim_host_language</th>\n",
       "      <th>listing_num</th>\n",
       "    </tr>\n",
       "  </thead>\n",
       "  <tbody>\n",
       "    <tr>\n",
       "      <th>0</th>\n",
       "      <td>56d70d7c-1d0a-4594-a250-ed62f7cf7ac4</td>\n",
       "      <td>65a56b50-faf2-44a2-845f-0c467f41d720</td>\n",
       "      <td>4deeb033-183e-437c-b94c-851ffee8cec8</td>\n",
       "      <td>2013-01-13 21:03:07</td>\n",
       "      <td>2013-01-14 21:19:42</td>\n",
       "      <td>2013-01-14 21:19:42</td>\n",
       "      <td>2013-01-14 21:19:42</td>\n",
       "      <td>2013-01-18</td>\n",
       "      <td>2013-01-20</td>\n",
       "      <td>2.0</td>\n",
       "      <td>13</td>\n",
       "      <td>165.0</td>\n",
       "      <td>book_it</td>\n",
       "      <td>Private room</td>\n",
       "      <td>78</td>\n",
       "      <td>2</td>\n",
       "      <td>NaN</td>\n",
       "      <td>es</td>\n",
       "      <td>33</td>\n",
       "    </tr>\n",
       "    <tr>\n",
       "      <th>1</th>\n",
       "      <td>dcfb93c4-07ca-41e8-b134-89b49ddc7a36</td>\n",
       "      <td>65a56b50-faf2-44a2-845f-0c467f41d720</td>\n",
       "      <td>4deeb033-183e-437c-b94c-851ffee8cec8</td>\n",
       "      <td>2013-01-15 23:43:49</td>\n",
       "      <td>2013-01-16 09:04:37</td>\n",
       "      <td>2013-01-16 09:04:37</td>\n",
       "      <td>2013-01-16 09:04:37</td>\n",
       "      <td>2013-01-23</td>\n",
       "      <td>2013-01-25</td>\n",
       "      <td>2.0</td>\n",
       "      <td>5</td>\n",
       "      <td>NaN</td>\n",
       "      <td>book_it</td>\n",
       "      <td>Private room</td>\n",
       "      <td>78</td>\n",
       "      <td>2</td>\n",
       "      <td>NaN</td>\n",
       "      <td>es</td>\n",
       "      <td>33</td>\n",
       "    </tr>\n",
       "    <tr>\n",
       "      <th>2</th>\n",
       "      <td>aef63ee0-7fd8-449f-867d-e710c39694e1</td>\n",
       "      <td>65a56b50-faf2-44a2-845f-0c467f41d720</td>\n",
       "      <td>4deeb033-183e-437c-b94c-851ffee8cec8</td>\n",
       "      <td>2013-03-19 21:30:13</td>\n",
       "      <td>2013-03-20 12:50:49</td>\n",
       "      <td>2013-03-20 12:50:49</td>\n",
       "      <td>2013-03-20 12:50:49</td>\n",
       "      <td>2013-05-31</td>\n",
       "      <td>2013-06-03</td>\n",
       "      <td>2.0</td>\n",
       "      <td>7</td>\n",
       "      <td>350.0</td>\n",
       "      <td>book_it</td>\n",
       "      <td>Private room</td>\n",
       "      <td>78</td>\n",
       "      <td>2</td>\n",
       "      <td>NaN</td>\n",
       "      <td>es</td>\n",
       "      <td>33</td>\n",
       "    </tr>\n",
       "    <tr>\n",
       "      <th>3</th>\n",
       "      <td>58788b6f-1215-40a5-8fb0-75d2e399880c</td>\n",
       "      <td>65a56b50-faf2-44a2-845f-0c467f41d720</td>\n",
       "      <td>4deeb033-183e-437c-b94c-851ffee8cec8</td>\n",
       "      <td>2013-01-03 16:32:01</td>\n",
       "      <td>2013-01-03 17:02:13</td>\n",
       "      <td>2013-01-03 17:02:53</td>\n",
       "      <td>2013-01-03 17:02:53</td>\n",
       "      <td>2013-02-09</td>\n",
       "      <td>2013-02-11</td>\n",
       "      <td>2.0</td>\n",
       "      <td>5</td>\n",
       "      <td>426.0</td>\n",
       "      <td>book_it</td>\n",
       "      <td>Private room</td>\n",
       "      <td>78</td>\n",
       "      <td>2</td>\n",
       "      <td>NaN</td>\n",
       "      <td>es</td>\n",
       "      <td>33</td>\n",
       "    </tr>\n",
       "    <tr>\n",
       "      <th>4</th>\n",
       "      <td>c3945c48-53b6-4e19-8bda-7d5b51d14ec1</td>\n",
       "      <td>65a56b50-faf2-44a2-845f-0c467f41d720</td>\n",
       "      <td>4deeb033-183e-437c-b94c-851ffee8cec8</td>\n",
       "      <td>2013-04-13 04:31:33</td>\n",
       "      <td>2013-04-13 16:43:53</td>\n",
       "      <td>2013-04-13 16:44:20</td>\n",
       "      <td>2013-04-13 16:44:20</td>\n",
       "      <td>2013-06-06</td>\n",
       "      <td>2013-06-08</td>\n",
       "      <td>2.0</td>\n",
       "      <td>7</td>\n",
       "      <td>239.0</td>\n",
       "      <td>book_it</td>\n",
       "      <td>Private room</td>\n",
       "      <td>78</td>\n",
       "      <td>2</td>\n",
       "      <td>NaN</td>\n",
       "      <td>es</td>\n",
       "      <td>33</td>\n",
       "    </tr>\n",
       "  </tbody>\n",
       "</table>\n",
       "</div>"
      ],
      "text/plain": [
       "                          id_guest_anon                          id_host_anon  \\\n",
       "0  56d70d7c-1d0a-4594-a250-ed62f7cf7ac4  65a56b50-faf2-44a2-845f-0c467f41d720   \n",
       "1  dcfb93c4-07ca-41e8-b134-89b49ddc7a36  65a56b50-faf2-44a2-845f-0c467f41d720   \n",
       "2  aef63ee0-7fd8-449f-867d-e710c39694e1  65a56b50-faf2-44a2-845f-0c467f41d720   \n",
       "3  58788b6f-1215-40a5-8fb0-75d2e399880c  65a56b50-faf2-44a2-845f-0c467f41d720   \n",
       "4  c3945c48-53b6-4e19-8bda-7d5b51d14ec1  65a56b50-faf2-44a2-845f-0c467f41d720   \n",
       "\n",
       "                        id_listing_anon ts_interaction_first  \\\n",
       "0  4deeb033-183e-437c-b94c-851ffee8cec8  2013-01-13 21:03:07   \n",
       "1  4deeb033-183e-437c-b94c-851ffee8cec8  2013-01-15 23:43:49   \n",
       "2  4deeb033-183e-437c-b94c-851ffee8cec8  2013-03-19 21:30:13   \n",
       "3  4deeb033-183e-437c-b94c-851ffee8cec8  2013-01-03 16:32:01   \n",
       "4  4deeb033-183e-437c-b94c-851ffee8cec8  2013-04-13 04:31:33   \n",
       "\n",
       "    ts_reply_at_first ts_accepted_at_first       ts_booking_at  \\\n",
       "0 2013-01-14 21:19:42  2013-01-14 21:19:42 2013-01-14 21:19:42   \n",
       "1 2013-01-16 09:04:37  2013-01-16 09:04:37 2013-01-16 09:04:37   \n",
       "2 2013-03-20 12:50:49  2013-03-20 12:50:49 2013-03-20 12:50:49   \n",
       "3 2013-01-03 17:02:13  2013-01-03 17:02:53 2013-01-03 17:02:53   \n",
       "4 2013-04-13 16:43:53  2013-04-13 16:44:20 2013-04-13 16:44:20   \n",
       "\n",
       "  ds_checkin_first ds_checkout_first  m_guests_first  m_interactions  \\\n",
       "0       2013-01-18        2013-01-20             2.0              13   \n",
       "1       2013-01-23        2013-01-25             2.0               5   \n",
       "2       2013-05-31        2013-06-03             2.0               7   \n",
       "3       2013-02-09        2013-02-11             2.0               5   \n",
       "4       2013-06-06        2013-06-08             2.0               7   \n",
       "\n",
       "   m_first_message_length_in_characters dim_contact_channel_first  \\\n",
       "0                                 165.0                   book_it   \n",
       "1                                   NaN                   book_it   \n",
       "2                                 350.0                   book_it   \n",
       "3                                 426.0                   book_it   \n",
       "4                                 239.0                   book_it   \n",
       "\n",
       "  dim_room_type  dim_total_reviews  dim_person_capacity  dim_guest_language  \\\n",
       "0  Private room                 78                    2                 NaN   \n",
       "1  Private room                 78                    2                 NaN   \n",
       "2  Private room                 78                    2                 NaN   \n",
       "3  Private room                 78                    2                 NaN   \n",
       "4  Private room                 78                    2                 NaN   \n",
       "\n",
       "  dim_host_language  listing_num  \n",
       "0                es           33  \n",
       "1                es           33  \n",
       "2                es           33  \n",
       "3                es           33  \n",
       "4                es           33  "
      ]
     },
     "execution_count": 194,
     "metadata": {},
     "output_type": "execute_result"
    }
   ],
   "source": [
    "df_1 = df.copy()\n",
    "#to add column of total listing number for each id\n",
    "list_num_count = []\n",
    "#list for count of each listing id \n",
    "listing_count = df[\"id_listing_anon\"].value_counts()\n",
    "for i in range(len(df[\"id_listing_anon\"])):\n",
    "    list_num_count.append(listing_count[df[\"id_listing_anon\"][i]])\n",
    "df_1['listing_num'] = pd.Series(list_num_count, index=df_1.index)\n",
    "#check\n",
    "df_1.head()"
   ]
  },
  {
   "cell_type": "code",
   "execution_count": 146,
   "metadata": {
    "collapsed": true
   },
   "outputs": [
    {
     "name": "stdout",
     "output_type": "stream",
     "text": [
      "3172 3172\n"
     ]
    },
    {
     "data": {
      "text/plain": [
       "array([[ 1.        ,  0.79765684],\n",
       "       [ 0.79765684,  1.        ]])"
      ]
     },
     "execution_count": 146,
     "metadata": {},
     "output_type": "execute_result"
    }
   ],
   "source": [
    "#check correlation between review number and listing number\n",
    "check_list = []\n",
    "check_lnum = []\n",
    "check_rnum = []\n",
    "for i in range(len(df[\"id_listing_anon\"])):\n",
    "    if df_1[\"id_listing_anon\"][i] not in check_list:\n",
    "        check_list.append(df_1[\"id_listing_anon\"][i])\n",
    "        check_lnum.append(float(df_1[\"listing_num\"][i]))\n",
    "        check_rnum.append(float(df_1[\"dim_total_reviews\"][i]))\n",
    "\n",
    "\n",
    "#data = df_1[['listing_num','dim_total_reviews']]\n",
    "print (len(check_lnum),len(check_rnum))\n",
    "np.corrcoef(check_lnum, check_rnum)\n",
    "#correlation is ~0.80 rather highly correlated."
   ]
  },
  {
   "cell_type": "code",
   "execution_count": 223,
   "metadata": {
    "collapsed": true
   },
   "outputs": [],
   "source": [
    "#create entry of time intervel between booking and checking\n",
    "time_ahead = []\n",
    "time_stay = []\n",
    "for i in range(len(df_1[\"id_listing_anon\"])):\n",
    "#     t_inter = datetime.strptime(df_2[\"ts_interaction_first\"][i], \"%m/%d/%Y %I:%M:%S %p\")\n",
    "#     t_in = datetime.strptime(df_2[\"ds_checkin_first\"][i], \"%m/%d/%Y\")\n",
    "#     t_out = datetime.strptime(df_2[\"ds_checkout_first\"][i], \"%m/%d/%Y\")\n",
    "    try:\n",
    "        t_inter = df_1[\"ts_interaction_first\"][i]\n",
    "        t_in = df_1[\"ds_checkin_first\"][i]\n",
    "        t_out = df_1[\"ds_checkout_first\"][i]\n",
    "    \n",
    "    \n",
    "    \n",
    "        time_ahead.append((t_in - t_inter).days)\n",
    "        time_stay.append((t_out - t_in).days) \n",
    "    except:\n",
    "        print (i)\n",
    "\n",
    "df_1['time_ahead'] = pd.Series(time_ahead, index=df_1.index)        \n",
    "df_1['time_stay'] = pd.Series(time_stay, index=df_1.index)"
   ]
  },
  {
   "cell_type": "code",
   "execution_count": 169,
   "metadata": {},
   "outputs": [],
   "source": [
    "#\"1/6/2014\"-\"12/25/2013\"\n",
    "dt1 = datetime.strptime(\"1/6/2014\", \"%m/%d/%Y\")\n",
    "dt2 = datetime.strptime(\"12/25/2013 7:14:56 PM\",\"%m/%d/%Y %I:%M:%S %p\")\n",
    "c= dt1-dt2"
   ]
  },
  {
   "cell_type": "code",
   "execution_count": 199,
   "metadata": {},
   "outputs": [],
   "source": [
    "#df_2[\"ts_interaction_first\"][1412]\n",
    "#df_2[\"ds_checkin_first\"][1412]\n",
    "#df_2[\"ds_checkout_first\"][1412]\n",
    "for i in range(len(df_1[\"id_listing_anon\"])):\n",
    "#     t_inter = datetime.strptime(df_2[\"ts_interaction_first\"][i], \"%m/%d/%Y %I:%M:%S %p\")\n",
    "#     t_in = datetime.strptime(df_2[\"ds_checkin_first\"][i], \"%m/%d/%Y\")\n",
    "#     t_out = datetime.strptime(df_2[\"ds_checkout_first\"][i], \"%m/%d/%Y\")\n",
    "    try:\n",
    "        t_inter = df_1[\"ts_interaction_first\"][i]\n",
    "        t_in = df_1[\"ds_checkin_first\"][i]\n",
    "        t_out = df_1[\"ds_checkout_first\"][i]\n",
    "    \n",
    "    \n",
    "    \n",
    "        time_ahead.append((t_in - t_inter).days)\n",
    "        time_stay.append((t_out - t_in).days) \n",
    "    except:\n",
    "        print (i)"
   ]
  },
  {
   "cell_type": "code",
   "execution_count": 268,
   "metadata": {},
   "outputs": [],
   "source": [
    "#convert ts_accepted_at_first to acceptance\n",
    "not_accept = df_1[\"ts_accepted_at_first\"].isnull()\n",
    "df_1['accept'] = pd.Series(-not_accept, index=df_temp.index)\n",
    "#fill Nan in  m_first_message_length_in_characters, and m_guest_staying as average\n",
    "df_1[\"m_first_message_length_in_characters\"]= df_1[\"m_first_message_length_in_characters\"].fillna(value=0)\n",
    "df_1[\"m_guests_first\"] = df_1[\"m_guests_first\"].fillna(value=df_1[\"m_guests_first\"].mean())\n"
   ]
  },
  {
   "cell_type": "code",
   "execution_count": 274,
   "metadata": {},
   "outputs": [
    {
     "name": "stdout",
     "output_type": "stream",
     "text": [
      "19858\n",
      "19461\n"
     ]
    }
   ],
   "source": [
    "#filter out only book_it (already checked only two types in data)\n",
    "book_num = df_1[\"dim_contact_channel_first\"] == \"book_it\"\n",
    "df_2 = df_1[book_num]\n",
    "print (len(df_2))\n",
    "guest_num = df_2[\"m_guests_first\"] <= df_2[\"dim_person_capacity\"]\n",
    "df_3 = df_2[guest_num]\n",
    "print (len(df_3))\n",
    "path = 'D:\\\\DI\\\\zhou\\\\'\n",
    "df_3.to_csv(path+'try.csv')"
   ]
  },
  {
   "cell_type": "code",
   "execution_count": 327,
   "metadata": {},
   "outputs": [
    {
     "name": "stdout",
     "output_type": "stream",
     "text": [
      "('m_interactions', 'dim_total_reviews', 'time_ahead')\n",
      "0.807728010703\n"
     ]
    }
   ],
   "source": [
    "#now start model building, inputs use subsets of \"m_guests_first\",\"m_interactions\",\"m_first_message_length_in_characters\",\"dim_total_reviews\",\"dim_person_capacity\"\\\n",
    "#,\"time_ahead\",\"listing_num\"\n",
    "#this is a loose condition, try it first\n",
    "#apply best subset selection combined with LR\n",
    "\n",
    "selection_list = [\"m_guests_first\",\"m_interactions\",\"m_first_message_length_in_characters\",\"dim_total_reviews\",\\\n",
    "                  \"dim_person_capacity\",\"time_ahead\",\"time_stay\"]\n",
    "best_score = 0\n",
    "test = np.random.rand(len(df_3)) < 0.8\n",
    "min_max_scaler = preprocessing.MinMaxScaler()\n",
    "kfold = model_selection.KFold(n_splits=10,random_state=7)\n",
    "modelCV = sklearn.linear_model.LogisticRegression()\n",
    "for i in range(len(selection_list)):\n",
    "    for combo in combinations(selection_list, i+1): \n",
    "        x = df_3[list(combo)]\n",
    "        x_norm = min_max_scaler.fit_transform(x)\n",
    "        x_norm_test = x_norm[test]\n",
    "        results = model_selection.cross_val_score(modelCV, x_norm_test, df_3[test][\"accept\"], cv=kfold, scoring = \"accuracy\")\n",
    "        if results.mean() > best_score:\n",
    "            best_score = results.mean()\n",
    "            best_comb = combo\n",
    "print(best_comb)\n",
    "print(best_score)\n",
    "\n",
    "#results:\n",
    "# ('m_interactions', 'dim_total_reviews', 'time_ahead')\n",
    "# 0.807728010703"
   ]
  },
  {
   "cell_type": "code",
   "execution_count": 347,
   "metadata": {
    "collapsed": true
   },
   "outputs": [
    {
     "name": "stdout",
     "output_type": "stream",
     "text": [
      "0\n",
      "0.704082712393\n",
      "1\n",
      "0.78478972388\n",
      "2\n",
      "0.806500620523\n",
      "0\n",
      "0.786405420845\n",
      "1\n",
      "0.696072376476\n",
      "2\n",
      "0.68224370249\n"
     ]
    }
   ],
   "source": [
    "#now from best subset, select highest impact term :\n",
    "test_list = ['m_interactions', 'dim_total_reviews', 'time_ahead']\n",
    "for i in range(len(test_list)):\n",
    "    list_use = test_list[:]\n",
    "    del list_use[i]\n",
    "    x = df_3[list_use]\n",
    "    x_norm = min_max_scaler.fit_transform(x)\n",
    "    x_norm_test = x_norm[test]\n",
    "    results = model_selection.cross_val_score(modelCV, x_norm_test, df_3[test][\"accept\"], cv=kfold, scoring = \"accuracy\")\n",
    "    print (i)\n",
    "    print (results.mean())\n",
    "#results:\n",
    "# 0\n",
    "# 0.704082712393\n",
    "# 1\n",
    "# 0.78478972388\n",
    "# 2\n",
    "# 0.806500620523\n",
    "#test if fit individually which one has highest accuracy\n",
    "test_list = ['m_interactions', 'dim_total_reviews', 'time_ahead']\n",
    "for i in range(len(test_list)):\n",
    "    a = list(str(test_list[i]))\n",
    "    x = df_3[[test_list[i]]]\n",
    "    x_norm = min_max_scaler.fit_transform(x)\n",
    "    x_norm_test = x_norm[test]\n",
    "    results = model_selection.cross_val_score(modelCV, x_norm_test, df_3[test][\"accept\"], cv=kfold, scoring = \"accuracy\")\n",
    "    print (i)\n",
    "    print (results.mean())\n",
    "#resuts:\n",
    "# 0\n",
    "# 0.786405420845\n",
    "# 1\n",
    "# 0.696072376476\n",
    "# 2\n",
    "# 0.68224370249\n",
    "\n",
    "#therefore m_interactions is most important feature"
   ]
  },
  {
   "cell_type": "code",
   "execution_count": 368,
   "metadata": {},
   "outputs": [],
   "source": [
    "x = df_3[list(best_comb)]\n",
    "x_norm = min_max_scaler.fit_transform(x)\n",
    "x_norm_test = x_norm[test]\n",
    "results = model_selection.cross_val_score(modelCV, x_norm_test, df_3[test][\"accept\"], cv=kfold, scoring = \"accuracy\")"
   ]
  },
  {
   "cell_type": "code",
   "execution_count": 369,
   "metadata": {},
   "outputs": [
    {
     "data": {
      "text/plain": [
       "LogisticRegression(C=1.0, class_weight=None, dual=False, fit_intercept=True,\n",
       "          intercept_scaling=1, max_iter=100, multi_class='ovr', n_jobs=1,\n",
       "          penalty='l2', random_state=None, solver='liblinear', tol=0.0001,\n",
       "          verbose=0, warm_start=False)"
      ]
     },
     "execution_count": 369,
     "metadata": {},
     "output_type": "execute_result"
    }
   ],
   "source": [
    "modelCV.fit(x_norm_test,df_3[test][\"accept\"])\n",
    "sum(modelCV.predict(x_norm[~test]) == df_3[~test][\"accept\"])/len(x_norm[~test])\n",
    "#test score 0.799"
   ]
  },
  {
   "cell_type": "code",
   "execution_count": 378,
   "metadata": {
    "collapsed": true
   },
   "outputs": [],
   "source": [
    "#2 part, message experiment. \n",
    "experiment_list = pd.read_excel(\"D:/DI/zhou/assignment.xlsx\")\n"
   ]
  },
  {
   "cell_type": "code",
   "execution_count": 382,
   "metadata": {},
   "outputs": [
    {
     "data": {
      "text/plain": [
       "control      10029\n",
       "treatment     9967\n",
       "Name: ab, dtype: int64"
      ]
     },
     "execution_count": 382,
     "metadata": {},
     "output_type": "execute_result"
    }
   ],
   "source": [
    "experiment_list['ab'].value_counts()"
   ]
  },
  {
   "cell_type": "code",
   "execution_count": 401,
   "metadata": {},
   "outputs": [
    {
     "data": {
      "text/plain": [
       "9110"
      ]
     },
     "execution_count": 401,
     "metadata": {},
     "output_type": "execute_result"
    }
   ],
   "source": [
    "cont = experiment_list['ab'] == \"control\"\n",
    "experiment_list_control = experiment_list[cont]\n",
    "experiment_list_treatment = experiment_list[~cont]\n",
    "a = experiment_list_control['id_user_anon'].isin(experiment_list_treatment['id_user_anon'])\n",
    "#experiment_list_control['id_user_anon'].value_counts()\n",
    "sum(a)\n",
    "#results not 0 indicating there is overlap"
   ]
  },
  {
   "cell_type": "code",
   "execution_count": 423,
   "metadata": {},
   "outputs": [
    {
     "name": "stdout",
     "output_type": "stream",
     "text": [
      "10998\n",
      "10961\n",
      "1184\n",
      "23143\n"
     ]
    }
   ],
   "source": [
    "#indexing\n",
    "index_control = df_1['id_guest_anon'].isin(experiment_list_control['id_user_anon']) & -df_1['id_guest_anon'].isin(experiment_list_treatment['id_user_anon'])\n",
    "print (sum(index_control))\n",
    "index_treatment = -df_1['id_guest_anon'].isin(experiment_list_control['id_user_anon']) & df_1['id_guest_anon'].isin(experiment_list_treatment['id_user_anon'])\n",
    "print (sum(index_treatment))\n",
    "index_both = df_1['id_guest_anon'].isin(experiment_list_control['id_user_anon']) & df_1['id_guest_anon'].isin(experiment_list_treatment['id_user_anon'])\n",
    "print (sum(index_both))\n",
    "print (len(df_1))\n",
    "#checked total number"
   ]
  },
  {
   "cell_type": "code",
   "execution_count": 424,
   "metadata": {},
   "outputs": [],
   "source": [
    "#cleaning\n",
    "df_control_1 = df_1[index_control]\n",
    "df_treatment_1 = df_1[index_treatment]\n",
    "\n",
    "book_control = df_control_1[\"dim_contact_channel_first\"] == \"book_it\"\n",
    "book_treatment = df_treatment_1[\"dim_contact_channel_first\"] == \"book_it\"\n",
    "\n",
    "df_control_2 = df_control_1[book_control]\n",
    "df_treatment_2 = df_treatment_1[book_treatment]\n",
    "\n",
    "guest_control = df_control_2[\"m_guests_first\"] <= df_control_2[\"dim_person_capacity\"]\n",
    "guest_treatment = df_treatment_2[\"m_guests_first\"] <= df_treatment_2[\"dim_person_capacity\"]\n",
    "df_control_3 = df_control_2[guest_control]\n",
    "df_treatment_3 = df_treatment_2[guest_treatment]\n",
    "\n",
    "path = 'D:\\\\DI\\\\zhou\\\\'\n",
    "df_control_3.to_csv(path+'control_cleaned.csv')\n",
    "df_treatment_3.to_csv(path+'treatment_cleaned.csv')\n",
    "\n"
   ]
  },
  {
   "cell_type": "code",
   "execution_count": 425,
   "metadata": {},
   "outputs": [
    {
     "name": "stdout",
     "output_type": "stream",
     "text": [
      "0.686111710157\n",
      "0.677591463415\n"
     ]
    }
   ],
   "source": [
    "print (sum(df_control_3['accept'])/len(df_control_3))\n",
    "print (sum(df_treatment_3['accept'])/len(df_treatment_3))\n",
    "# rates doesn't vary much but can be deceive for m_first_message_length_in_characters can also contribute to rates"
   ]
  }
 ],
 "metadata": {
  "kernelspec": {
   "display_name": "Python 3",
   "language": "python",
   "name": "python3"
  },
  "language_info": {
   "codemirror_mode": {
    "name": "ipython",
    "version": 3
   },
   "file_extension": ".py",
   "mimetype": "text/x-python",
   "name": "python",
   "nbconvert_exporter": "python",
   "pygments_lexer": "ipython3",
   "version": "3.6.1"
  }
 },
 "nbformat": 4,
 "nbformat_minor": 2
}
